{
 "cells": [
  {
   "cell_type": "code",
   "execution_count": 1,
   "id": "6a14a907",
   "metadata": {},
   "outputs": [],
   "source": [
    "import pandas as pd\n",
    "import numpy as np\n",
    "import joblib\n",
    "from pathlib import Path"
   ]
  },
  {
   "cell_type": "code",
   "execution_count": 2,
   "id": "0d8d8ded",
   "metadata": {},
   "outputs": [],
   "source": [
    "from sklearn.model_selection import train_test_split\n",
    "from sklearn.compose import ColumnTransformer\n",
    "from sklearn.preprocessing import OneHotEncoder, StandardScaler\n",
    "from sklearn.pipeline import Pipeline\n",
    "from sklearn.ensemble import RandomForestClassifier\n",
    "from sklearn.metrics import roc_auc_score, accuracy_score, precision_score, recall_score, f1_score, confusion_matrix, classification_report\n",
    "from sklearn.linear_model import LinearRegression\n",
    "from sklearn.inspection import permutation_importance\n",
    "import shap\n",
    "import matplotlib.pyplot as plt"
   ]
  },
  {
   "cell_type": "code",
   "execution_count": 3,
   "id": "1ede0cbe",
   "metadata": {},
   "outputs": [],
   "source": [
    "DATA_PATH = Path(\"data/synthetic_loan_default_data_clean.csv\")\n",
    "MODEL_PATH_rf = Path(\"random_forest.pkl\")\n",
    "MODEL_PATH_lin = Path(\"linearReg.pkl\")"
   ]
  },
  {
   "cell_type": "code",
   "execution_count": 4,
   "id": "9731b460",
   "metadata": {},
   "outputs": [],
   "source": [
    "df = pd.read_csv(DATA_PATH)\n",
    "df.columns = df.columns.str.lower()"
   ]
  },
  {
   "cell_type": "code",
   "execution_count": 5,
   "id": "d93f6054",
   "metadata": {},
   "outputs": [
    {
     "data": {
      "text/html": [
       "<div>\n",
       "<style scoped>\n",
       "    .dataframe tbody tr th:only-of-type {\n",
       "        vertical-align: middle;\n",
       "    }\n",
       "\n",
       "    .dataframe tbody tr th {\n",
       "        vertical-align: top;\n",
       "    }\n",
       "\n",
       "    .dataframe thead th {\n",
       "        text-align: right;\n",
       "    }\n",
       "</style>\n",
       "<table border=\"1\" class=\"dataframe\">\n",
       "  <thead>\n",
       "    <tr style=\"text-align: right;\">\n",
       "      <th></th>\n",
       "      <th>loan_amount</th>\n",
       "      <th>interest_rate</th>\n",
       "      <th>tenure_months</th>\n",
       "      <th>credit_score</th>\n",
       "      <th>income</th>\n",
       "      <th>employment_type</th>\n",
       "      <th>debt_to_income_ratio</th>\n",
       "      <th>collateral_value</th>\n",
       "      <th>late_payments</th>\n",
       "      <th>missed_emi_count</th>\n",
       "      <th>default</th>\n",
       "    </tr>\n",
       "  </thead>\n",
       "  <tbody>\n",
       "    <tr>\n",
       "      <th>0</th>\n",
       "      <td>171958</td>\n",
       "      <td>12.67</td>\n",
       "      <td>36</td>\n",
       "      <td>878</td>\n",
       "      <td>191020</td>\n",
       "      <td>Contractual</td>\n",
       "      <td>0.93</td>\n",
       "      <td>798385</td>\n",
       "      <td>0</td>\n",
       "      <td>1</td>\n",
       "      <td>No</td>\n",
       "    </tr>\n",
       "    <tr>\n",
       "      <th>1</th>\n",
       "      <td>721155</td>\n",
       "      <td>15.23</td>\n",
       "      <td>36</td>\n",
       "      <td>364</td>\n",
       "      <td>80133</td>\n",
       "      <td>Salaried</td>\n",
       "      <td>0.60</td>\n",
       "      <td>630698</td>\n",
       "      <td>0</td>\n",
       "      <td>1</td>\n",
       "      <td>Yes</td>\n",
       "    </tr>\n",
       "    <tr>\n",
       "      <th>2</th>\n",
       "      <td>181932</td>\n",
       "      <td>17.34</td>\n",
       "      <td>24</td>\n",
       "      <td>387</td>\n",
       "      <td>129444</td>\n",
       "      <td>Self-Employed</td>\n",
       "      <td>1.03</td>\n",
       "      <td>1698019</td>\n",
       "      <td>3</td>\n",
       "      <td>1</td>\n",
       "      <td>Yes</td>\n",
       "    </tr>\n",
       "    <tr>\n",
       "      <th>3</th>\n",
       "      <td>1464414</td>\n",
       "      <td>16.20</td>\n",
       "      <td>24</td>\n",
       "      <td>324</td>\n",
       "      <td>132603</td>\n",
       "      <td>Self-Employed</td>\n",
       "      <td>0.23</td>\n",
       "      <td>1203183</td>\n",
       "      <td>2</td>\n",
       "      <td>1</td>\n",
       "      <td>Yes</td>\n",
       "    </tr>\n",
       "    <tr>\n",
       "      <th>4</th>\n",
       "      <td>309178</td>\n",
       "      <td>8.97</td>\n",
       "      <td>48</td>\n",
       "      <td>848</td>\n",
       "      <td>173598</td>\n",
       "      <td>Salaried</td>\n",
       "      <td>0.38</td>\n",
       "      <td>1779472</td>\n",
       "      <td>0</td>\n",
       "      <td>1</td>\n",
       "      <td>No</td>\n",
       "    </tr>\n",
       "    <tr>\n",
       "      <th>...</th>\n",
       "      <td>...</td>\n",
       "      <td>...</td>\n",
       "      <td>...</td>\n",
       "      <td>...</td>\n",
       "      <td>...</td>\n",
       "      <td>...</td>\n",
       "      <td>...</td>\n",
       "      <td>...</td>\n",
       "      <td>...</td>\n",
       "      <td>...</td>\n",
       "      <td>...</td>\n",
       "    </tr>\n",
       "    <tr>\n",
       "      <th>995</th>\n",
       "      <td>765460</td>\n",
       "      <td>15.64</td>\n",
       "      <td>12</td>\n",
       "      <td>318</td>\n",
       "      <td>129456</td>\n",
       "      <td>Salaried</td>\n",
       "      <td>0.86</td>\n",
       "      <td>1312595</td>\n",
       "      <td>3</td>\n",
       "      <td>2</td>\n",
       "      <td>Yes</td>\n",
       "    </tr>\n",
       "    <tr>\n",
       "      <th>996</th>\n",
       "      <td>934574</td>\n",
       "      <td>12.47</td>\n",
       "      <td>84</td>\n",
       "      <td>367</td>\n",
       "      <td>77559</td>\n",
       "      <td>Salaried</td>\n",
       "      <td>1.07</td>\n",
       "      <td>1561023</td>\n",
       "      <td>3</td>\n",
       "      <td>2</td>\n",
       "      <td>Yes</td>\n",
       "    </tr>\n",
       "    <tr>\n",
       "      <th>997</th>\n",
       "      <td>1763796</td>\n",
       "      <td>9.74</td>\n",
       "      <td>48</td>\n",
       "      <td>360</td>\n",
       "      <td>79892</td>\n",
       "      <td>Salaried</td>\n",
       "      <td>0.42</td>\n",
       "      <td>495288</td>\n",
       "      <td>0</td>\n",
       "      <td>2</td>\n",
       "      <td>Yes</td>\n",
       "    </tr>\n",
       "    <tr>\n",
       "      <th>998</th>\n",
       "      <td>285365</td>\n",
       "      <td>13.32</td>\n",
       "      <td>60</td>\n",
       "      <td>428</td>\n",
       "      <td>85409</td>\n",
       "      <td>Salaried</td>\n",
       "      <td>0.19</td>\n",
       "      <td>1447544</td>\n",
       "      <td>2</td>\n",
       "      <td>1</td>\n",
       "      <td>Yes</td>\n",
       "    </tr>\n",
       "    <tr>\n",
       "      <th>999</th>\n",
       "      <td>392786</td>\n",
       "      <td>14.59</td>\n",
       "      <td>36</td>\n",
       "      <td>324</td>\n",
       "      <td>154707</td>\n",
       "      <td>Self-Employed</td>\n",
       "      <td>0.43</td>\n",
       "      <td>479969</td>\n",
       "      <td>2</td>\n",
       "      <td>3</td>\n",
       "      <td>Yes</td>\n",
       "    </tr>\n",
       "  </tbody>\n",
       "</table>\n",
       "<p>1000 rows × 11 columns</p>\n",
       "</div>"
      ],
      "text/plain": [
       "     loan_amount  interest_rate  tenure_months  credit_score  income  \\\n",
       "0         171958          12.67             36           878  191020   \n",
       "1         721155          15.23             36           364   80133   \n",
       "2         181932          17.34             24           387  129444   \n",
       "3        1464414          16.20             24           324  132603   \n",
       "4         309178           8.97             48           848  173598   \n",
       "..           ...            ...            ...           ...     ...   \n",
       "995       765460          15.64             12           318  129456   \n",
       "996       934574          12.47             84           367   77559   \n",
       "997      1763796           9.74             48           360   79892   \n",
       "998       285365          13.32             60           428   85409   \n",
       "999       392786          14.59             36           324  154707   \n",
       "\n",
       "    employment_type  debt_to_income_ratio  collateral_value  late_payments  \\\n",
       "0       Contractual                  0.93            798385              0   \n",
       "1          Salaried                  0.60            630698              0   \n",
       "2     Self-Employed                  1.03           1698019              3   \n",
       "3     Self-Employed                  0.23           1203183              2   \n",
       "4          Salaried                  0.38           1779472              0   \n",
       "..              ...                   ...               ...            ...   \n",
       "995        Salaried                  0.86           1312595              3   \n",
       "996        Salaried                  1.07           1561023              3   \n",
       "997        Salaried                  0.42            495288              0   \n",
       "998        Salaried                  0.19           1447544              2   \n",
       "999   Self-Employed                  0.43            479969              2   \n",
       "\n",
       "     missed_emi_count default  \n",
       "0                   1      No  \n",
       "1                   1     Yes  \n",
       "2                   1     Yes  \n",
       "3                   1     Yes  \n",
       "4                   1      No  \n",
       "..                ...     ...  \n",
       "995                 2     Yes  \n",
       "996                 2     Yes  \n",
       "997                 2     Yes  \n",
       "998                 1     Yes  \n",
       "999                 3     Yes  \n",
       "\n",
       "[1000 rows x 11 columns]"
      ]
     },
     "execution_count": 5,
     "metadata": {},
     "output_type": "execute_result"
    }
   ],
   "source": [
    "df"
   ]
  },
  {
   "cell_type": "code",
   "execution_count": 6,
   "id": "16c53bba",
   "metadata": {},
   "outputs": [],
   "source": [
    "X = df.drop(columns=['default'])\n",
    "#y = df['default']\n",
    "y = df['default'].map({'Yes': 1, 'No': 0})"
   ]
  },
  {
   "cell_type": "code",
   "execution_count": 7,
   "id": "64d1e0da",
   "metadata": {},
   "outputs": [],
   "source": [
    "X_train, X_test, y_train, y_test = train_test_split(X, y, stratify=y, test_size=0.2, random_state=42)"
   ]
  },
  {
   "cell_type": "code",
   "execution_count": 8,
   "id": "76bf4d93",
   "metadata": {},
   "outputs": [],
   "source": [
    "num_features = X.select_dtypes(include=[\"int64\", \"float64\"]).columns.tolist()\n",
    "cat_features = X.select_dtypes(include=[\"object\"]).columns.tolist()"
   ]
  },
  {
   "cell_type": "code",
   "execution_count": 9,
   "id": "1fe59be6",
   "metadata": {},
   "outputs": [],
   "source": [
    "preprocessor = ColumnTransformer([\n",
    "    (\"num\", StandardScaler(), num_features),\n",
    "    (\"cat\", OneHotEncoder(handle_unknown=\"ignore\"), cat_features)\n",
    "])"
   ]
  },
  {
   "cell_type": "code",
   "execution_count": 10,
   "id": "0e7f66bf",
   "metadata": {},
   "outputs": [],
   "source": [
    "lin_pipe = Pipeline([\n",
    "    (\"preprocess\", preprocessor),\n",
    "    (\"model\", LinearRegression())\n",
    "])\n",
    "\n",
    "rf_pipe = Pipeline([('pre', preprocessor),\n",
    "                    ('clf', RandomForestClassifier(n_estimators=2000, random_state=42, class_weight=None))])\n"
   ]
  },
  {
   "cell_type": "code",
   "execution_count": 11,
   "id": "af10b1ba",
   "metadata": {},
   "outputs": [
    {
     "data": {
      "text/html": [
       "<style>#sk-container-id-1 {color: black;}#sk-container-id-1 pre{padding: 0;}#sk-container-id-1 div.sk-toggleable {background-color: white;}#sk-container-id-1 label.sk-toggleable__label {cursor: pointer;display: block;width: 100%;margin-bottom: 0;padding: 0.3em;box-sizing: border-box;text-align: center;}#sk-container-id-1 label.sk-toggleable__label-arrow:before {content: \"▸\";float: left;margin-right: 0.25em;color: #696969;}#sk-container-id-1 label.sk-toggleable__label-arrow:hover:before {color: black;}#sk-container-id-1 div.sk-estimator:hover label.sk-toggleable__label-arrow:before {color: black;}#sk-container-id-1 div.sk-toggleable__content {max-height: 0;max-width: 0;overflow: hidden;text-align: left;background-color: #f0f8ff;}#sk-container-id-1 div.sk-toggleable__content pre {margin: 0.2em;color: black;border-radius: 0.25em;background-color: #f0f8ff;}#sk-container-id-1 input.sk-toggleable__control:checked~div.sk-toggleable__content {max-height: 200px;max-width: 100%;overflow: auto;}#sk-container-id-1 input.sk-toggleable__control:checked~label.sk-toggleable__label-arrow:before {content: \"▾\";}#sk-container-id-1 div.sk-estimator input.sk-toggleable__control:checked~label.sk-toggleable__label {background-color: #d4ebff;}#sk-container-id-1 div.sk-label input.sk-toggleable__control:checked~label.sk-toggleable__label {background-color: #d4ebff;}#sk-container-id-1 input.sk-hidden--visually {border: 0;clip: rect(1px 1px 1px 1px);clip: rect(1px, 1px, 1px, 1px);height: 1px;margin: -1px;overflow: hidden;padding: 0;position: absolute;width: 1px;}#sk-container-id-1 div.sk-estimator {font-family: monospace;background-color: #f0f8ff;border: 1px dotted black;border-radius: 0.25em;box-sizing: border-box;margin-bottom: 0.5em;}#sk-container-id-1 div.sk-estimator:hover {background-color: #d4ebff;}#sk-container-id-1 div.sk-parallel-item::after {content: \"\";width: 100%;border-bottom: 1px solid gray;flex-grow: 1;}#sk-container-id-1 div.sk-label:hover label.sk-toggleable__label {background-color: #d4ebff;}#sk-container-id-1 div.sk-serial::before {content: \"\";position: absolute;border-left: 1px solid gray;box-sizing: border-box;top: 0;bottom: 0;left: 50%;z-index: 0;}#sk-container-id-1 div.sk-serial {display: flex;flex-direction: column;align-items: center;background-color: white;padding-right: 0.2em;padding-left: 0.2em;position: relative;}#sk-container-id-1 div.sk-item {position: relative;z-index: 1;}#sk-container-id-1 div.sk-parallel {display: flex;align-items: stretch;justify-content: center;background-color: white;position: relative;}#sk-container-id-1 div.sk-item::before, #sk-container-id-1 div.sk-parallel-item::before {content: \"\";position: absolute;border-left: 1px solid gray;box-sizing: border-box;top: 0;bottom: 0;left: 50%;z-index: -1;}#sk-container-id-1 div.sk-parallel-item {display: flex;flex-direction: column;z-index: 1;position: relative;background-color: white;}#sk-container-id-1 div.sk-parallel-item:first-child::after {align-self: flex-end;width: 50%;}#sk-container-id-1 div.sk-parallel-item:last-child::after {align-self: flex-start;width: 50%;}#sk-container-id-1 div.sk-parallel-item:only-child::after {width: 0;}#sk-container-id-1 div.sk-dashed-wrapped {border: 1px dashed gray;margin: 0 0.4em 0.5em 0.4em;box-sizing: border-box;padding-bottom: 0.4em;background-color: white;}#sk-container-id-1 div.sk-label label {font-family: monospace;font-weight: bold;display: inline-block;line-height: 1.2em;}#sk-container-id-1 div.sk-label-container {text-align: center;}#sk-container-id-1 div.sk-container {/* jupyter's `normalize.less` sets `[hidden] { display: none; }` but bootstrap.min.css set `[hidden] { display: none !important; }` so we also need the `!important` here to be able to override the default hidden behavior on the sphinx rendered scikit-learn.org. See: https://github.com/scikit-learn/scikit-learn/issues/21755 */display: inline-block !important;position: relative;}#sk-container-id-1 div.sk-text-repr-fallback {display: none;}</style><div id=\"sk-container-id-1\" class=\"sk-top-container\"><div class=\"sk-text-repr-fallback\"><pre>Pipeline(steps=[(&#x27;pre&#x27;,\n",
       "                 ColumnTransformer(transformers=[(&#x27;num&#x27;, StandardScaler(),\n",
       "                                                  [&#x27;loan_amount&#x27;,\n",
       "                                                   &#x27;interest_rate&#x27;,\n",
       "                                                   &#x27;tenure_months&#x27;,\n",
       "                                                   &#x27;credit_score&#x27;, &#x27;income&#x27;,\n",
       "                                                   &#x27;debt_to_income_ratio&#x27;,\n",
       "                                                   &#x27;collateral_value&#x27;,\n",
       "                                                   &#x27;late_payments&#x27;,\n",
       "                                                   &#x27;missed_emi_count&#x27;]),\n",
       "                                                 (&#x27;cat&#x27;,\n",
       "                                                  OneHotEncoder(handle_unknown=&#x27;ignore&#x27;),\n",
       "                                                  [&#x27;employment_type&#x27;])])),\n",
       "                (&#x27;clf&#x27;,\n",
       "                 RandomForestClassifier(n_estimators=2000, random_state=42))])</pre><b>In a Jupyter environment, please rerun this cell to show the HTML representation or trust the notebook. <br />On GitHub, the HTML representation is unable to render, please try loading this page with nbviewer.org.</b></div><div class=\"sk-container\" hidden><div class=\"sk-item sk-dashed-wrapped\"><div class=\"sk-label-container\"><div class=\"sk-label sk-toggleable\"><input class=\"sk-toggleable__control sk-hidden--visually\" id=\"sk-estimator-id-1\" type=\"checkbox\" ><label for=\"sk-estimator-id-1\" class=\"sk-toggleable__label sk-toggleable__label-arrow\">Pipeline</label><div class=\"sk-toggleable__content\"><pre>Pipeline(steps=[(&#x27;pre&#x27;,\n",
       "                 ColumnTransformer(transformers=[(&#x27;num&#x27;, StandardScaler(),\n",
       "                                                  [&#x27;loan_amount&#x27;,\n",
       "                                                   &#x27;interest_rate&#x27;,\n",
       "                                                   &#x27;tenure_months&#x27;,\n",
       "                                                   &#x27;credit_score&#x27;, &#x27;income&#x27;,\n",
       "                                                   &#x27;debt_to_income_ratio&#x27;,\n",
       "                                                   &#x27;collateral_value&#x27;,\n",
       "                                                   &#x27;late_payments&#x27;,\n",
       "                                                   &#x27;missed_emi_count&#x27;]),\n",
       "                                                 (&#x27;cat&#x27;,\n",
       "                                                  OneHotEncoder(handle_unknown=&#x27;ignore&#x27;),\n",
       "                                                  [&#x27;employment_type&#x27;])])),\n",
       "                (&#x27;clf&#x27;,\n",
       "                 RandomForestClassifier(n_estimators=2000, random_state=42))])</pre></div></div></div><div class=\"sk-serial\"><div class=\"sk-item sk-dashed-wrapped\"><div class=\"sk-label-container\"><div class=\"sk-label sk-toggleable\"><input class=\"sk-toggleable__control sk-hidden--visually\" id=\"sk-estimator-id-2\" type=\"checkbox\" ><label for=\"sk-estimator-id-2\" class=\"sk-toggleable__label sk-toggleable__label-arrow\">pre: ColumnTransformer</label><div class=\"sk-toggleable__content\"><pre>ColumnTransformer(transformers=[(&#x27;num&#x27;, StandardScaler(),\n",
       "                                 [&#x27;loan_amount&#x27;, &#x27;interest_rate&#x27;,\n",
       "                                  &#x27;tenure_months&#x27;, &#x27;credit_score&#x27;, &#x27;income&#x27;,\n",
       "                                  &#x27;debt_to_income_ratio&#x27;, &#x27;collateral_value&#x27;,\n",
       "                                  &#x27;late_payments&#x27;, &#x27;missed_emi_count&#x27;]),\n",
       "                                (&#x27;cat&#x27;, OneHotEncoder(handle_unknown=&#x27;ignore&#x27;),\n",
       "                                 [&#x27;employment_type&#x27;])])</pre></div></div></div><div class=\"sk-parallel\"><div class=\"sk-parallel-item\"><div class=\"sk-item\"><div class=\"sk-label-container\"><div class=\"sk-label sk-toggleable\"><input class=\"sk-toggleable__control sk-hidden--visually\" id=\"sk-estimator-id-3\" type=\"checkbox\" ><label for=\"sk-estimator-id-3\" class=\"sk-toggleable__label sk-toggleable__label-arrow\">num</label><div class=\"sk-toggleable__content\"><pre>[&#x27;loan_amount&#x27;, &#x27;interest_rate&#x27;, &#x27;tenure_months&#x27;, &#x27;credit_score&#x27;, &#x27;income&#x27;, &#x27;debt_to_income_ratio&#x27;, &#x27;collateral_value&#x27;, &#x27;late_payments&#x27;, &#x27;missed_emi_count&#x27;]</pre></div></div></div><div class=\"sk-serial\"><div class=\"sk-item\"><div class=\"sk-estimator sk-toggleable\"><input class=\"sk-toggleable__control sk-hidden--visually\" id=\"sk-estimator-id-4\" type=\"checkbox\" ><label for=\"sk-estimator-id-4\" class=\"sk-toggleable__label sk-toggleable__label-arrow\">StandardScaler</label><div class=\"sk-toggleable__content\"><pre>StandardScaler()</pre></div></div></div></div></div></div><div class=\"sk-parallel-item\"><div class=\"sk-item\"><div class=\"sk-label-container\"><div class=\"sk-label sk-toggleable\"><input class=\"sk-toggleable__control sk-hidden--visually\" id=\"sk-estimator-id-5\" type=\"checkbox\" ><label for=\"sk-estimator-id-5\" class=\"sk-toggleable__label sk-toggleable__label-arrow\">cat</label><div class=\"sk-toggleable__content\"><pre>[&#x27;employment_type&#x27;]</pre></div></div></div><div class=\"sk-serial\"><div class=\"sk-item\"><div class=\"sk-estimator sk-toggleable\"><input class=\"sk-toggleable__control sk-hidden--visually\" id=\"sk-estimator-id-6\" type=\"checkbox\" ><label for=\"sk-estimator-id-6\" class=\"sk-toggleable__label sk-toggleable__label-arrow\">OneHotEncoder</label><div class=\"sk-toggleable__content\"><pre>OneHotEncoder(handle_unknown=&#x27;ignore&#x27;)</pre></div></div></div></div></div></div></div></div><div class=\"sk-item\"><div class=\"sk-estimator sk-toggleable\"><input class=\"sk-toggleable__control sk-hidden--visually\" id=\"sk-estimator-id-7\" type=\"checkbox\" ><label for=\"sk-estimator-id-7\" class=\"sk-toggleable__label sk-toggleable__label-arrow\">RandomForestClassifier</label><div class=\"sk-toggleable__content\"><pre>RandomForestClassifier(n_estimators=2000, random_state=42)</pre></div></div></div></div></div></div></div>"
      ],
      "text/plain": [
       "Pipeline(steps=[('pre',\n",
       "                 ColumnTransformer(transformers=[('num', StandardScaler(),\n",
       "                                                  ['loan_amount',\n",
       "                                                   'interest_rate',\n",
       "                                                   'tenure_months',\n",
       "                                                   'credit_score', 'income',\n",
       "                                                   'debt_to_income_ratio',\n",
       "                                                   'collateral_value',\n",
       "                                                   'late_payments',\n",
       "                                                   'missed_emi_count']),\n",
       "                                                 ('cat',\n",
       "                                                  OneHotEncoder(handle_unknown='ignore'),\n",
       "                                                  ['employment_type'])])),\n",
       "                ('clf',\n",
       "                 RandomForestClassifier(n_estimators=2000, random_state=42))])"
      ]
     },
     "execution_count": 11,
     "metadata": {},
     "output_type": "execute_result"
    }
   ],
   "source": [
    "lin_pipe.fit(X_train, y_train)\n",
    "rf_pipe.fit(X_train, y_train)"
   ]
  },
  {
   "cell_type": "code",
   "execution_count": 12,
   "id": "5eab2c08",
   "metadata": {},
   "outputs": [],
   "source": [
    "def evaluate_model(name, model, X_test, y_test):\n",
    "    if name == \"Linear Regression\":\n",
    "        preds = model.predict(X_test)\n",
    "        probs = preds.clip(0, 1)  # clip between 0-1\n",
    "        preds_class = (probs >= 0.5).astype(int)\n",
    "    else:\n",
    "        probs = model.predict_proba(X_test)[:, 1]\n",
    "        preds_class = model.predict(X_test)\n",
    "\n",
    "    print(f\"\\n{name} Results\")\n",
    "    print(\"ROC AUC:\", round(roc_auc_score(y_test, probs), 3))\n",
    "    print(\"Accuracy:\", round(accuracy_score(y_test, preds_class), 3))\n",
    "    print(classification_report(y_test, preds_class))\n"
   ]
  },
  {
   "cell_type": "code",
   "execution_count": 13,
   "id": "6ac4baf7",
   "metadata": {},
   "outputs": [
    {
     "name": "stdout",
     "output_type": "stream",
     "text": [
      "\n",
      "Linear Regression Results\n",
      "ROC AUC: 0.981\n",
      "Accuracy: 0.925\n",
      "              precision    recall  f1-score   support\n",
      "\n",
      "           0       0.84      0.91      0.87        56\n",
      "           1       0.96      0.93      0.95       144\n",
      "\n",
      "    accuracy                           0.93       200\n",
      "   macro avg       0.90      0.92      0.91       200\n",
      "weighted avg       0.93      0.93      0.93       200\n",
      "\n",
      "\n",
      "Random Forest Results\n",
      "ROC AUC: 1.0\n",
      "Accuracy: 0.985\n",
      "              precision    recall  f1-score   support\n",
      "\n",
      "           0       0.95      1.00      0.97        56\n",
      "           1       1.00      0.98      0.99       144\n",
      "\n",
      "    accuracy                           0.98       200\n",
      "   macro avg       0.97      0.99      0.98       200\n",
      "weighted avg       0.99      0.98      0.99       200\n",
      "\n"
     ]
    }
   ],
   "source": [
    "evaluate_model(\"Linear Regression\", lin_pipe, X_test, y_test)\n",
    "evaluate_model(\"Random Forest\", rf_pipe, X_test, y_test)"
   ]
  },
  {
   "cell_type": "code",
   "execution_count": 14,
   "id": "490d5768",
   "metadata": {},
   "outputs": [
    {
     "name": "stdout",
     "output_type": "stream",
     "text": [
      "\n",
      "Linear Regression Coefficients (top 10):\n",
      "                               Feature  Coefficient\n",
      "3                    num__credit_score    -0.319530\n",
      "4                          num__income    -0.087581\n",
      "0                     num__loan_amount     0.060560\n",
      "11  cat__employment_type_Self-Employed     0.017444\n",
      "9     cat__employment_type_Contractual    -0.016943\n",
      "8                num__missed_emi_count     0.015553\n",
      "6                num__collateral_value     0.013273\n",
      "12     cat__employment_type_Unemployed    -0.012752\n",
      "10       cat__employment_type_Salaried     0.012250\n",
      "1                   num__interest_rate    -0.011205\n"
     ]
    }
   ],
   "source": [
    "# Linear Regression: Coefficients\n",
    "lin_model = lin_pipe.named_steps[\"model\"]\n",
    "\n",
    "lin_features = lin_pipe.named_steps[\"preprocess\"].get_feature_names_out()\n",
    "\n",
    "coef_df = pd.DataFrame({\n",
    "    \"Feature\": lin_features,\n",
    "    \"Coefficient\": lin_model.coef_\n",
    "}).sort_values(by=\"Coefficient\", key=abs, ascending=False)\n",
    "\n",
    "print(\"\\nLinear Regression Coefficients (top 10):\")\n",
    "print(coef_df.head(10))\n"
   ]
  },
  {
   "cell_type": "code",
   "execution_count": 15,
   "id": "c11ab7cd",
   "metadata": {},
   "outputs": [
    {
     "name": "stdout",
     "output_type": "stream",
     "text": [
      "\n",
      "Random Forest Feature Importance (top 10):\n",
      "num__credit_score                0.586807\n",
      "num__income                      0.116330\n",
      "num__loan_amount                 0.073121\n",
      "num__late_payments               0.071790\n",
      "num__interest_rate               0.033479\n",
      "num__collateral_value            0.033470\n",
      "num__debt_to_income_ratio        0.030497\n",
      "num__missed_emi_count            0.029881\n",
      "num__tenure_months               0.013739\n",
      "cat__employment_type_Salaried    0.003610\n",
      "dtype: float64\n"
     ]
    },
    {
     "data": {
      "image/png": "[encoded data removed]",
      "text/plain": [
       "<Figure size 800x500 with 1 Axes>"
      ]
     },
     "metadata": {},
     "output_type": "display_data"
    }
   ],
   "source": [
    "# 2. Random Forest feature importance\n",
    "rf_model = rf_pipe.named_steps[\"clf\"]\n",
    "rf_importances = pd.Series(rf_model.feature_importances_,\n",
    "                           index=lin_features).sort_values(ascending=False)\n",
    "\n",
    "print(\"\\nRandom Forest Feature Importance (top 10):\")\n",
    "print(rf_importances.head(10))\n",
    "\n",
    "# Plot feature importance\n",
    "rf_importances.head(10).plot(kind=\"barh\", figsize=(8, 5))\n",
    "plt.title(\"Random Forest Feature Importance (Top 10)\")\n",
    "plt.show()"
   ]
  },
  {
   "cell_type": "code",
   "execution_count": 16,
   "id": "79bb8ee5",
   "metadata": {},
   "outputs": [
    {
     "name": "stdout",
     "output_type": "stream",
     "text": [
      "shap_vals shape: (200, 13, 2) X_rf_test shape: (200, 13)\n"
     ]
    },
    {
     "name": "stderr",
     "output_type": "stream",
     "text": [
      "C:\\Users\\jithu\\anaconda3\\Lib\\site-packages\\shap\\plots\\_beeswarm.py:1150: UserWarning: The figure layout has changed to tight\n",
      "  plt.tight_layout()\n",
      "C:\\Users\\jithu\\anaconda3\\Lib\\site-packages\\shap\\plots\\_beeswarm.py:758: UserWarning: The figure layout has changed to tight\n",
      "  plt.tight_layout(pad=0, w_pad=0, h_pad=0.0)\n"
     ]
    },
    {
     "data": {
      "image/png": "[encoded data removed]",
      "text/plain": [
       "<Figure size 1150x660 with 2 Axes>"
      ]
     },
     "metadata": {},
     "output_type": "display_data"
    }
   ],
   "source": [
    "# --- SHAP for Random Forest ---\n",
    "\n",
    "import shap\n",
    "\n",
    "rf_model = rf_pipe.named_steps[\"clf\"]\n",
    "rf_preproc = rf_pipe.named_steps[\"pre\"]\n",
    "\n",
    "# Preprocess test data\n",
    "X_rf_test = rf_preproc.transform(X_test)\n",
    "rf_features = rf_preproc.get_feature_names_out()\n",
    "\n",
    "# Use TreeExplainer in raw mode (default)\n",
    "explainer = shap.TreeExplainer(rf_model)\n",
    "shap_values = explainer.shap_values(X_rf_test)\n",
    "\n",
    "# If it's a list, pick class 1 (Default = Yes)\n",
    "if isinstance(shap_values, list):\n",
    "    shap_vals = shap_values[1]\n",
    "else:\n",
    "    shap_vals = shap_values  # already correct shape\n",
    "\n",
    "print(\"shap_vals shape:\", shap_vals.shape, \"X_rf_test shape:\", X_rf_test.shape)\n",
    "\n",
    "# SHAP summary plot for \"Default = Yes\"\n",
    "shap.summary_plot(shap_vals, X_rf_test, feature_names=rf_features)\n"
   ]
  },
  {
   "cell_type": "code",
   "execution_count": 17,
   "id": "7c4cbc57",
   "metadata": {},
   "outputs": [],
   "source": [
    "def predict_applicant(applicant_data, models):\n",
    "    df_input = pd.DataFrame([applicant_data])\n",
    "    df_input.columns = df_input.columns.str.lower()\n",
    "    results = {}\n",
    "\n",
    "    for name, model in models.items():\n",
    "        if name == \"Linear Regression\":\n",
    "            score = model.predict(df_input)[0]\n",
    "            prob = max(0, min(1, score))  # clip to [0,1]\n",
    "        else:\n",
    "            prob = model.predict_proba(df_input)[:, 1][0]\n",
    "\n",
    "        pred = \"Yes\" if prob >= 0.5 else \"No\"\n",
    "\n",
    "        # Risk bucketing\n",
    "        if prob <= 0.30:\n",
    "            bucket = \"Accept\"\n",
    "        elif prob <= 0.60:\n",
    "            bucket = \"Review\"\n",
    "        else:\n",
    "            bucket = \"Reject\"\n",
    "\n",
    "        results[name] = {\n",
    "            \"Predicted_Default\": pred,\n",
    "            \"Default_Probability\": round(prob, 3),\n",
    "            \"Risk_Bucket\": bucket\n",
    "        }\n",
    "\n",
    "    return results"
   ]
  },
  {
   "cell_type": "code",
   "execution_count": 18,
   "id": "36c23a5c",
   "metadata": {},
   "outputs": [
    {
     "name": "stdout",
     "output_type": "stream",
     "text": [
      "\n",
      "Applicant Prediction: {'Linear Regression': {'Predicted_Default': 'No', 'Default_Probability': 0.297, 'Risk_Bucket': 'Accept'}, 'Random Forest': {'Predicted_Default': 'Yes', 'Default_Probability': 0.604, 'Risk_Bucket': 'Reject'}}\n"
     ]
    }
   ],
   "source": [
    "new_applicant = {\n",
    "    \"Loan_Amount\": 500000,\n",
    "    \"Interest_Rate\": 14.5,\n",
    "    \"Tenure_Months\": 36,\n",
    "    \"Credit_Score\": 820,\n",
    "    \"Income\": 45000,\n",
    "    \"Employment_Type\": \"Salaried\",\n",
    "    \"Debt_to_Income_Ratio\": 0.50,\n",
    "    \"Collateral_Value\": 300000,\n",
    "    \"Late_Payments\": 0,\n",
    "    \"Missed_EMI_Count\": 3\n",
    "}\n",
    "\n",
    "models = {\n",
    "    \"Linear Regression\": lin_pipe,\n",
    "    \"Random Forest\": rf_pipe\n",
    "}\n",
    "\n",
    "predictions = predict_applicant(new_applicant, models)\n",
    "print(\"\\nApplicant Prediction:\", predictions)"
   ]
  },
  {
   "cell_type": "code",
   "execution_count": 21,
   "id": "34b98067",
   "metadata": {},
   "outputs": [
    {
     "data": {
      "text/plain": [
       "['linearReg.pkl']"
      ]
     },
     "execution_count": 21,
     "metadata": {},
     "output_type": "execute_result"
    }
   ],
   "source": [
    "joblib.dump(rf_pipe, MODEL_PATH_rf)\n",
    "joblib.dump(lin_pipe, MODEL_PATH_lin)"
   ]
  },
  {
   "cell_type": "code",
   "execution_count": null,
   "id": "90ca06f8",
   "metadata": {},
   "outputs": [],
   "source": []
  }
 ],
 "metadata": {
  "kernelspec": {
   "display_name": "Python [conda env:base] *",
   "language": "python",
   "name": "conda-base-py"
  },
  "language_info": {
   "codemirror_mode": {
    "name": "ipython",
    "version": 3
   },
   "file_extension": ".py",
   "mimetype": "text/x-python",
   "name": "python",
   "nbconvert_exporter": "python",
   "pygments_lexer": "ipython3",
   "version": "3.11.5"
  }
 },
 "nbformat": 4,
 "nbformat_minor": 5
}
