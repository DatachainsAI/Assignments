{
 "cells": [
  {
   "cell_type": "code",
   "execution_count": 81,
   "id": "14c0c44f-4c71-4288-bbdf-c3f6553b893a",
   "metadata": {},
   "outputs": [],
   "source": [
    "from sklearn.metrics import accuracy_score\n",
    "import xgboost as xgb\n",
    "import seaborn as sns\n",
    "from sklearn.model_selection import train_test_split\n",
    "from sklearn.preprocessing import StandardScaler\n",
    "from sklearn.ensemble import IsolationForest\n",
    "import numpy as np\n",
    "import matplotlib.pyplot as plt\n",
    "import pandas as pd\n",
    "import warnings\n",
    "warnings.filterwarnings(\"ignore\")"
   ]
  },
  {
   "cell_type": "code",
   "execution_count": 19,
   "id": "60fbdebb-8c86-4289-84ed-bae39bb523f2",
   "metadata": {},
   "outputs": [],
   "source": [
    "df = pd.read_csv('data/ecommerce_fraud_data.csv',  parse_dates=[\"order_date\"])"
   ]
  },
  {
   "cell_type": "code",
   "execution_count": 20,
   "id": "1368b50f-a971-4502-92c0-1263703f560c",
   "metadata": {},
   "outputs": [],
   "source": [
    "user_avg = df.groupby(\"user_id\")[\"order_amount\"].mean().rename(\"user_avg_order_value\")\n",
    "df = df.merge(user_avg, on=\"user_id\", how=\"left\")\n",
    "df[\"order_value_deviation\"] = df[\"order_amount\"] - df[\"user_avg_order_value\"]\n",
    "pm_freq = df.groupby([\"user_id\", \"payment_type\"]).size().rename(\"payment_method_freq\").reset_index()\n",
    "df = df.merge(pm_freq, on=[\"user_id\", \"payment_type\"], how=\"left\")\n",
    "df[\"device_change_count\"] = df.groupby(\"user_id\")[\"device_type\"].transform(\"nunique\")\n",
    "df[\"delivery_mismatch\"] = np.where(df[\"billing_region\"] != df[\"shipping_region\"], 1, 0)\n",
    "df[\"is_cod_flag\"] = np.where(df[\"is_cod\"].str.lower()==\"yes\", 1, 0)\n",
    "df[\"order_hour\"] = df[\"order_date\"].dt.hour.fillna(0).astype(int)\n",
    "df[\"is_night_order\"] = ((df[\"order_hour\"] < 6) | (df[\"order_hour\"] > 22)).astype(int)"
   ]
  },
  {
   "cell_type": "code",
   "execution_count": 25,
   "id": "1dd727b9-d1e5-4256-9f2d-daf9ab9306cb",
   "metadata": {},
   "outputs": [],
   "source": [
    "feature_cols = [\n",
    "    \"order_amount\",\"user_avg_order_value\",\"order_value_deviation\",\"payment_method_freq\",\n",
    "    \"device_change_count\",\"delivery_mismatch\",\"ip_address_risk_score\",\"device_trust_score\",\n",
    "    \"num_failed_payments\",\"is_cod_flag\",\"loyalty_score\",\"num_prev_orders\"\n",
    "]\n",
    "\n",
    "categorical = [\"payment_type\",\"device_type\",\"browser\",\"billing_region\"]\n",
    "\n",
    "df_model = pd.get_dummies(df[feature_cols+categorical], drop_first=True)\n",
    "df_model.fillna(0, inplace=True)\n",
    "\n",
    "scaler = StandardScaler()\n",
    "X_scaled = scaler.fit_transform(df_model)\n",
    "y = np.where(df[\"is_fraud\"].str.lower()==\"yes\",1,0)\n",
    "\n",
    "X_train,X_test,y_train,y_test = train_test_split(X_scaled,y,test_size=0.2,random_state=42,stratify=y)\n"
   ]
  },
  {
   "cell_type": "code",
   "execution_count": 27,
   "id": "5aabde51-2dfd-4730-9e24-dd5f41ad7b19",
   "metadata": {},
   "outputs": [
    {
     "data": {
      "text/html": [
       "<style>#sk-container-id-1 {color: black;}#sk-container-id-1 pre{padding: 0;}#sk-container-id-1 div.sk-toggleable {background-color: white;}#sk-container-id-1 label.sk-toggleable__label {cursor: pointer;display: block;width: 100%;margin-bottom: 0;padding: 0.3em;box-sizing: border-box;text-align: center;}#sk-container-id-1 label.sk-toggleable__label-arrow:before {content: \"▸\";float: left;margin-right: 0.25em;color: #696969;}#sk-container-id-1 label.sk-toggleable__label-arrow:hover:before {color: black;}#sk-container-id-1 div.sk-estimator:hover label.sk-toggleable__label-arrow:before {color: black;}#sk-container-id-1 div.sk-toggleable__content {max-height: 0;max-width: 0;overflow: hidden;text-align: left;background-color: #f0f8ff;}#sk-container-id-1 div.sk-toggleable__content pre {margin: 0.2em;color: black;border-radius: 0.25em;background-color: #f0f8ff;}#sk-container-id-1 input.sk-toggleable__control:checked~div.sk-toggleable__content {max-height: 200px;max-width: 100%;overflow: auto;}#sk-container-id-1 input.sk-toggleable__control:checked~label.sk-toggleable__label-arrow:before {content: \"▾\";}#sk-container-id-1 div.sk-estimator input.sk-toggleable__control:checked~label.sk-toggleable__label {background-color: #d4ebff;}#sk-container-id-1 div.sk-label input.sk-toggleable__control:checked~label.sk-toggleable__label {background-color: #d4ebff;}#sk-container-id-1 input.sk-hidden--visually {border: 0;clip: rect(1px 1px 1px 1px);clip: rect(1px, 1px, 1px, 1px);height: 1px;margin: -1px;overflow: hidden;padding: 0;position: absolute;width: 1px;}#sk-container-id-1 div.sk-estimator {font-family: monospace;background-color: #f0f8ff;border: 1px dotted black;border-radius: 0.25em;box-sizing: border-box;margin-bottom: 0.5em;}#sk-container-id-1 div.sk-estimator:hover {background-color: #d4ebff;}#sk-container-id-1 div.sk-parallel-item::after {content: \"\";width: 100%;border-bottom: 1px solid gray;flex-grow: 1;}#sk-container-id-1 div.sk-label:hover label.sk-toggleable__label {background-color: #d4ebff;}#sk-container-id-1 div.sk-serial::before {content: \"\";position: absolute;border-left: 1px solid gray;box-sizing: border-box;top: 0;bottom: 0;left: 50%;z-index: 0;}#sk-container-id-1 div.sk-serial {display: flex;flex-direction: column;align-items: center;background-color: white;padding-right: 0.2em;padding-left: 0.2em;position: relative;}#sk-container-id-1 div.sk-item {position: relative;z-index: 1;}#sk-container-id-1 div.sk-parallel {display: flex;align-items: stretch;justify-content: center;background-color: white;position: relative;}#sk-container-id-1 div.sk-item::before, #sk-container-id-1 div.sk-parallel-item::before {content: \"\";position: absolute;border-left: 1px solid gray;box-sizing: border-box;top: 0;bottom: 0;left: 50%;z-index: -1;}#sk-container-id-1 div.sk-parallel-item {display: flex;flex-direction: column;z-index: 1;position: relative;background-color: white;}#sk-container-id-1 div.sk-parallel-item:first-child::after {align-self: flex-end;width: 50%;}#sk-container-id-1 div.sk-parallel-item:last-child::after {align-self: flex-start;width: 50%;}#sk-container-id-1 div.sk-parallel-item:only-child::after {width: 0;}#sk-container-id-1 div.sk-dashed-wrapped {border: 1px dashed gray;margin: 0 0.4em 0.5em 0.4em;box-sizing: border-box;padding-bottom: 0.4em;background-color: white;}#sk-container-id-1 div.sk-label label {font-family: monospace;font-weight: bold;display: inline-block;line-height: 1.2em;}#sk-container-id-1 div.sk-label-container {text-align: center;}#sk-container-id-1 div.sk-container {/* jupyter's `normalize.less` sets `[hidden] { display: none; }` but bootstrap.min.css set `[hidden] { display: none !important; }` so we also need the `!important` here to be able to override the default hidden behavior on the sphinx rendered scikit-learn.org. See: https://github.com/scikit-learn/scikit-learn/issues/21755 */display: inline-block !important;position: relative;}#sk-container-id-1 div.sk-text-repr-fallback {display: none;}</style><div id=\"sk-container-id-1\" class=\"sk-top-container\"><div class=\"sk-text-repr-fallback\"><pre>XGBClassifier(base_score=None, booster=None, callbacks=None,\n",
       "              colsample_bylevel=None, colsample_bynode=None,\n",
       "              colsample_bytree=None, device=None, early_stopping_rounds=None,\n",
       "              enable_categorical=False, eval_metric=&#x27;logloss&#x27;,\n",
       "              feature_types=None, feature_weights=None, gamma=None,\n",
       "              grow_policy=None, importance_type=None,\n",
       "              interaction_constraints=None, learning_rate=None, max_bin=None,\n",
       "              max_cat_threshold=None, max_cat_to_onehot=None,\n",
       "              max_delta_step=None, max_depth=None, max_leaves=None,\n",
       "              min_child_weight=None, missing=nan, monotone_constraints=None,\n",
       "              multi_strategy=None, n_estimators=100, n_jobs=None,\n",
       "              num_parallel_tree=None, ...)</pre><b>In a Jupyter environment, please rerun this cell to show the HTML representation or trust the notebook. <br />On GitHub, the HTML representation is unable to render, please try loading this page with nbviewer.org.</b></div><div class=\"sk-container\" hidden><div class=\"sk-item\"><div class=\"sk-estimator sk-toggleable\"><input class=\"sk-toggleable__control sk-hidden--visually\" id=\"sk-estimator-id-1\" type=\"checkbox\" checked><label for=\"sk-estimator-id-1\" class=\"sk-toggleable__label sk-toggleable__label-arrow\">XGBClassifier</label><div class=\"sk-toggleable__content\"><pre>XGBClassifier(base_score=None, booster=None, callbacks=None,\n",
       "              colsample_bylevel=None, colsample_bynode=None,\n",
       "              colsample_bytree=None, device=None, early_stopping_rounds=None,\n",
       "              enable_categorical=False, eval_metric=&#x27;logloss&#x27;,\n",
       "              feature_types=None, feature_weights=None, gamma=None,\n",
       "              grow_policy=None, importance_type=None,\n",
       "              interaction_constraints=None, learning_rate=None, max_bin=None,\n",
       "              max_cat_threshold=None, max_cat_to_onehot=None,\n",
       "              max_delta_step=None, max_depth=None, max_leaves=None,\n",
       "              min_child_weight=None, missing=nan, monotone_constraints=None,\n",
       "              multi_strategy=None, n_estimators=100, n_jobs=None,\n",
       "              num_parallel_tree=None, ...)</pre></div></div></div></div></div>"
      ],
      "text/plain": [
       "XGBClassifier(base_score=None, booster=None, callbacks=None,\n",
       "              colsample_bylevel=None, colsample_bynode=None,\n",
       "              colsample_bytree=None, device=None, early_stopping_rounds=None,\n",
       "              enable_categorical=False, eval_metric='logloss',\n",
       "              feature_types=None, feature_weights=None, gamma=None,\n",
       "              grow_policy=None, importance_type=None,\n",
       "              interaction_constraints=None, learning_rate=None, max_bin=None,\n",
       "              max_cat_threshold=None, max_cat_to_onehot=None,\n",
       "              max_delta_step=None, max_depth=None, max_leaves=None,\n",
       "              min_child_weight=None, missing=nan, monotone_constraints=None,\n",
       "              multi_strategy=None, n_estimators=100, n_jobs=None,\n",
       "              num_parallel_tree=None, ...)"
      ]
     },
     "execution_count": 27,
     "metadata": {},
     "output_type": "execute_result"
    }
   ],
   "source": [
    "clf = xgb.XGBClassifier(use_label_encoder=False, eval_metric=\"logloss\", random_state=42, n_estimators=100)\n",
    "clf.fit(X_train,y_train)"
   ]
  },
  {
   "cell_type": "code",
   "execution_count": 30,
   "id": "e16237f9-d40f-4980-bea4-290b7bba8d3c",
   "metadata": {},
   "outputs": [
    {
     "name": "stdout",
     "output_type": "stream",
     "text": [
      "Accuracy of the model is: 99.7584541062802\n"
     ]
    }
   ],
   "source": [
    "preds = clf.predict(X_test)\n",
    "preds = np.round(preds)\n",
    "accuracy= accuracy_score(y_test,preds)\n",
    "print('Accuracy of the model is:', accuracy*100)"
   ]
  },
  {
   "cell_type": "code",
   "execution_count": 70,
   "id": "52b0284b-6626-4861-b871-8e343521ed0a",
   "metadata": {},
   "outputs": [
    {
     "data": {
      "text/html": [
       "<style>#sk-container-id-3 {color: black;}#sk-container-id-3 pre{padding: 0;}#sk-container-id-3 div.sk-toggleable {background-color: white;}#sk-container-id-3 label.sk-toggleable__label {cursor: pointer;display: block;width: 100%;margin-bottom: 0;padding: 0.3em;box-sizing: border-box;text-align: center;}#sk-container-id-3 label.sk-toggleable__label-arrow:before {content: \"▸\";float: left;margin-right: 0.25em;color: #696969;}#sk-container-id-3 label.sk-toggleable__label-arrow:hover:before {color: black;}#sk-container-id-3 div.sk-estimator:hover label.sk-toggleable__label-arrow:before {color: black;}#sk-container-id-3 div.sk-toggleable__content {max-height: 0;max-width: 0;overflow: hidden;text-align: left;background-color: #f0f8ff;}#sk-container-id-3 div.sk-toggleable__content pre {margin: 0.2em;color: black;border-radius: 0.25em;background-color: #f0f8ff;}#sk-container-id-3 input.sk-toggleable__control:checked~div.sk-toggleable__content {max-height: 200px;max-width: 100%;overflow: auto;}#sk-container-id-3 input.sk-toggleable__control:checked~label.sk-toggleable__label-arrow:before {content: \"▾\";}#sk-container-id-3 div.sk-estimator input.sk-toggleable__control:checked~label.sk-toggleable__label {background-color: #d4ebff;}#sk-container-id-3 div.sk-label input.sk-toggleable__control:checked~label.sk-toggleable__label {background-color: #d4ebff;}#sk-container-id-3 input.sk-hidden--visually {border: 0;clip: rect(1px 1px 1px 1px);clip: rect(1px, 1px, 1px, 1px);height: 1px;margin: -1px;overflow: hidden;padding: 0;position: absolute;width: 1px;}#sk-container-id-3 div.sk-estimator {font-family: monospace;background-color: #f0f8ff;border: 1px dotted black;border-radius: 0.25em;box-sizing: border-box;margin-bottom: 0.5em;}#sk-container-id-3 div.sk-estimator:hover {background-color: #d4ebff;}#sk-container-id-3 div.sk-parallel-item::after {content: \"\";width: 100%;border-bottom: 1px solid gray;flex-grow: 1;}#sk-container-id-3 div.sk-label:hover label.sk-toggleable__label {background-color: #d4ebff;}#sk-container-id-3 div.sk-serial::before {content: \"\";position: absolute;border-left: 1px solid gray;box-sizing: border-box;top: 0;bottom: 0;left: 50%;z-index: 0;}#sk-container-id-3 div.sk-serial {display: flex;flex-direction: column;align-items: center;background-color: white;padding-right: 0.2em;padding-left: 0.2em;position: relative;}#sk-container-id-3 div.sk-item {position: relative;z-index: 1;}#sk-container-id-3 div.sk-parallel {display: flex;align-items: stretch;justify-content: center;background-color: white;position: relative;}#sk-container-id-3 div.sk-item::before, #sk-container-id-3 div.sk-parallel-item::before {content: \"\";position: absolute;border-left: 1px solid gray;box-sizing: border-box;top: 0;bottom: 0;left: 50%;z-index: -1;}#sk-container-id-3 div.sk-parallel-item {display: flex;flex-direction: column;z-index: 1;position: relative;background-color: white;}#sk-container-id-3 div.sk-parallel-item:first-child::after {align-self: flex-end;width: 50%;}#sk-container-id-3 div.sk-parallel-item:last-child::after {align-self: flex-start;width: 50%;}#sk-container-id-3 div.sk-parallel-item:only-child::after {width: 0;}#sk-container-id-3 div.sk-dashed-wrapped {border: 1px dashed gray;margin: 0 0.4em 0.5em 0.4em;box-sizing: border-box;padding-bottom: 0.4em;background-color: white;}#sk-container-id-3 div.sk-label label {font-family: monospace;font-weight: bold;display: inline-block;line-height: 1.2em;}#sk-container-id-3 div.sk-label-container {text-align: center;}#sk-container-id-3 div.sk-container {/* jupyter's `normalize.less` sets `[hidden] { display: none; }` but bootstrap.min.css set `[hidden] { display: none !important; }` so we also need the `!important` here to be able to override the default hidden behavior on the sphinx rendered scikit-learn.org. See: https://github.com/scikit-learn/scikit-learn/issues/21755 */display: inline-block !important;position: relative;}#sk-container-id-3 div.sk-text-repr-fallback {display: none;}</style><div id=\"sk-container-id-3\" class=\"sk-top-container\"><div class=\"sk-text-repr-fallback\"><pre>IsolationForest(random_state=42)</pre><b>In a Jupyter environment, please rerun this cell to show the HTML representation or trust the notebook. <br />On GitHub, the HTML representation is unable to render, please try loading this page with nbviewer.org.</b></div><div class=\"sk-container\" hidden><div class=\"sk-item\"><div class=\"sk-estimator sk-toggleable\"><input class=\"sk-toggleable__control sk-hidden--visually\" id=\"sk-estimator-id-3\" type=\"checkbox\" checked><label for=\"sk-estimator-id-3\" class=\"sk-toggleable__label sk-toggleable__label-arrow\">IsolationForest</label><div class=\"sk-toggleable__content\"><pre>IsolationForest(random_state=42)</pre></div></div></div></div></div>"
      ],
      "text/plain": [
       "IsolationForest(random_state=42)"
      ]
     },
     "execution_count": 70,
     "metadata": {},
     "output_type": "execute_result"
    }
   ],
   "source": [
    "\n",
    "model =  IsolationForest(n_estimators=100, random_state=42)\n",
    "model.fit(X_train)"
   ]
  },
  {
   "cell_type": "code",
   "execution_count": 76,
   "id": "89732df1-0340-4247-9d18-59b30a336109",
   "metadata": {},
   "outputs": [],
   "source": [
    "scores_prediction = model.decision_function(X_scaled)\n",
    "iso_norm = (iso_scores - iso_scores.min()) / (iso_scores.max() - iso_scores.min())\n",
    "\n",
    "# Convert to binary (top 35% = fraud)\n",
    "threshold = np.percentile(iso_norm, 65)\n",
    "y_pred_iso = (iso_norm >= threshold).astype(int)\n",
    "\n",
    "\n",
    "#y_pred_iso = model.predict(X_scaled)\n",
    "#y_pred_iso[y_pred_iso == 1] = 0\n",
    "#y_pred_iso[y_pred_iso == -1] = 1\n",
    "#print(\"Accuracy in finding anomaly:\",accuracy_score(y,y_pred_iso))\n"
   ]
  },
  {
   "cell_type": "code",
   "execution_count": 67,
   "id": "708ea472-adc8-4251-bac8-046c38939c81",
   "metadata": {},
   "outputs": [],
   "source": [
    "# XGBoost (supervised)\n",
    "y_pred_xgb = clf.predict(X_test)\n",
    "y_prob_xgb = clf.predict_proba(X_test)[:, 1]\n"
   ]
  },
  {
   "cell_type": "code",
   "execution_count": 82,
   "id": "56a5668c-6c89-47fb-9f8d-6b8b0946e828",
   "metadata": {},
   "outputs": [
    {
     "name": "stdout",
     "output_type": "stream",
     "text": [
      "=== XGBoost (Supervised) ===\n",
      "AUC: 1.000, Precision: 1.000, Recall: 0.994, F1: 0.997\n",
      "=== Isolation Forest (Unsupervised) ===\n",
      "ROC-AUC:   0.337\n",
      "Precision: 0.303\n",
      "Recall:    0.250\n",
      "F1-Score:  0.274\n"
     ]
    }
   ],
   "source": [
    "from sklearn.metrics import (\n",
    "    accuracy_score, precision_score, recall_score, f1_score, roc_auc_score, confusion_matrix\n",
    ")\n",
    "\n",
    "# --- XGBoost Metrics ---\n",
    "print(\"=== XGBoost (Supervised) ===\")\n",
    "xgb_auc = roc_auc_score(y_test, y_prob_xgb)\n",
    "xgb_prec = precision_score(y_test, y_pred_xgb)\n",
    "xgb_rec = recall_score(y_test, y_pred_xgb)\n",
    "xgb_f1 = f1_score(y_test, y_pred_xgb)\n",
    "print(f\"AUC: {xgb_auc:.3f}, Precision: {xgb_prec:.3f}, Recall: {xgb_rec:.3f}, F1: {xgb_f1:.3f}\")\n",
    "\n",
    "\n",
    "roc_iso = roc_auc_score(y_test, iso_norm)\n",
    "prec_iso = precision_score(y_test, y_pred_iso)\n",
    "rec_iso = recall_score(y_test, y_pred_iso)\n",
    "f1_iso = f1_score(y_test, y_pred_iso)\n",
    "\n",
    "print(\"=== Isolation Forest (Unsupervised) ===\")\n",
    "print(f\"ROC-AUC:   {roc_iso:.3f}\")\n",
    "print(f\"Precision: {prec_iso:.3f}\")\n",
    "print(f\"Recall:    {rec_iso:.3f}\")\n",
    "print(f\"F1-Score:  {f1_iso:.3f}\")\n"
   ]
  },
  {
   "cell_type": "code",
   "execution_count": 83,
   "id": "2e44feae-3af2-4d59-a3f1-c54c0a6b268a",
   "metadata": {},
   "outputs": [
    {
     "name": "stdout",
     "output_type": "stream",
     "text": [
      "✅ Models saved successfully!\n"
     ]
    }
   ],
   "source": [
    "import joblib\n",
    "\n",
    "# Save both models\n",
    "joblib.dump(clf, \"xgboost_fraud_model.pkl\")\n",
    "joblib.dump(model, \"isolation_forest_model.pkl\")\n",
    "\n",
    "print(\"✅ Models saved successfully!\")\n"
   ]
  },
  {
   "cell_type": "code",
   "execution_count": 84,
   "id": "b1f38fc2-79fb-4a43-86be-46e36c353f62",
   "metadata": {},
   "outputs": [
    {
     "name": "stdout",
     "output_type": "stream",
     "text": [
      "✅ Models loaded successfully!\n"
     ]
    }
   ],
   "source": [
    "xgb_loaded = joblib.load(\"xgboost_fraud_model.pkl\")\n",
    "iso_loaded = joblib.load(\"isolation_forest_model.pkl\")\n",
    "\n",
    "print(\"✅ Models loaded successfully!\")"
   ]
  },
  {
   "cell_type": "code",
   "execution_count": 85,
   "id": "5a0adaaa-d6aa-4e17-b1ea-bff432647adc",
   "metadata": {},
   "outputs": [],
   "source": [
    "new_order = {\n",
    "    \"order_amount\": 8450,\n",
    "    \"user_avg_order_value\": 4200,\n",
    "    \"order_value_deviation\": 4250,\n",
    "    \"payment_method_freq\": 2,\n",
    "    \"device_change_count\": 3,\n",
    "    \"delivery_mismatch\": 1,\n",
    "    \"ip_address_risk_score\": 0.8,\n",
    "    \"device_trust_score\": 0.25,\n",
    "    \"num_failed_payments\": 2,\n",
    "    \"is_cod_flag\": 1,\n",
    "    \"loyalty_score\": 0.3,\n",
    "    \"num_prev_orders\": 5,\n",
    "    \"device_consistency\": 0.4,\n",
    "    \"payment_type\": \"Credit Card\",\n",
    "    \"device_type\": \"Mobile\",\n",
    "    \"browser\": \"Chrome\",\n",
    "    \"billing_region\": \"Delhi\"\n",
    "}\n"
   ]
  },
  {
   "cell_type": "code",
   "execution_count": 86,
   "id": "a6414401-71fe-4f6e-81ab-7262d24c90e2",
   "metadata": {},
   "outputs": [],
   "source": [
    "import pandas as pd\n",
    "\n",
    "sample_df = pd.DataFrame([new_order])\n",
    "categorical = [\"payment_type\", \"device_type\", \"browser\", \"billing_region\"]\n",
    "sample_encoded = pd.get_dummies(sample_df, columns=categorical, drop_first=True)\n",
    "\n",
    "for col in df_model.columns:\n",
    "    if col not in sample_encoded.columns:\n",
    "        sample_encoded[col] = 0\n",
    "sample_encoded = sample_encoded[df_model.columns]\n",
    "\n",
    "sample_scaled = scaler.transform(sample_encoded)"
   ]
  },
  {
   "cell_type": "code",
   "execution_count": 89,
   "id": "d070cd85-5d34-4ab0-91d1-caf97a484294",
   "metadata": {},
   "outputs": [
    {
     "name": "stdout",
     "output_type": "stream",
     "text": [
      "XGBoost Fraud Probability: 1.00\n",
      "XGBoost Prediction: FRAUD\n"
     ]
    }
   ],
   "source": [
    "\n",
    "xgb_prob = xgb_loaded.predict_proba(sample_scaled)[:, 1]\n",
    "xgb_pred = (xgb_prob >= 0.5).astype(int)\n",
    "\n",
    "print(f\"XGBoost Fraud Probability: {xgb_prob[0]:.2f}\")\n",
    "print(\"XGBoost Prediction:\", \"FRAUD\" if xgb_pred[0] == 1 else \"NOT FRAUD\")\n"
   ]
  },
  {
   "cell_type": "code",
   "execution_count": 90,
   "id": "d1f6b3ff-acf7-40ee-b4c6-cbdf5f6a4909",
   "metadata": {},
   "outputs": [
    {
     "name": "stdout",
     "output_type": "stream",
     "text": [
      "IsolationForest Anomaly Score: 0.02\n",
      "IsolationForest Prediction: NOT FRAUD\n"
     ]
    }
   ],
   "source": [
    "# Predict anomaly score and label\n",
    "iso_score = iso_loaded.decision_function(sample_scaled)\n",
    "iso_norm = (iso_score - iso_loaded.offset_) / iso_loaded.offset_\n",
    "iso_pred = iso_loaded.predict(sample_scaled)\n",
    "iso_pred = np.where(iso_pred == -1, 1, 0) \n",
    "\n",
    "print(f\"IsolationForest Anomaly Score: {iso_score[0]:.2f}\")\n",
    "print(\"IsolationForest Prediction:\", \"FRAUD\" if iso_pred[0] == 1 else \"NOT FRAUD\")\n"
   ]
  },
  {
   "cell_type": "code",
   "execution_count": null,
   "id": "dc481292-94be-4a59-bfef-a27fb321d7b0",
   "metadata": {},
   "outputs": [],
   "source": []
  }
 ],
 "metadata": {
  "kernelspec": {
   "display_name": "Python [conda env:base] *",
   "language": "python",
   "name": "conda-base-py"
  },
  "language_info": {
   "codemirror_mode": {
    "name": "ipython",
    "version": 3
   },
   "file_extension": ".py",
   "mimetype": "text/x-python",
   "name": "python",
   "nbconvert_exporter": "python",
   "pygments_lexer": "ipython3",
   "version": "3.11.5"
  }
 },
 "nbformat": 4,
 "nbformat_minor": 5
}
