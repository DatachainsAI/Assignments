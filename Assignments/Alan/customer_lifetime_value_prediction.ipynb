{
 "cells": [
  {
   "cell_type": "code",
   "execution_count": 35,
   "id": "4e8c10d8",
   "metadata": {},
   "outputs": [
    {
     "name": "stdout",
     "output_type": "stream",
     "text": [
      "Defaulting to user installation because normal site-packages is not writeable\n",
      "Collecting xgboost\n",
      "  Downloading xgboost-3.0.5-py3-none-manylinux_2_28_x86_64.whl (94.9 MB)\n",
      "\u001b[2K     \u001b[90m━━━━━━━━━━━━━━━━━━━━━━━━━━━━━━━━━━━━━━━━\u001b[0m \u001b[32m94.9/94.9 MB\u001b[0m \u001b[31m29.9 MB/s\u001b[0m eta \u001b[36m0:00:00\u001b[0m00:01\u001b[0m00:01\u001b[0m\n",
      "\u001b[?25hRequirement already satisfied: scipy in /usr/local/lib/python3.10/dist-packages (from xgboost) (1.13.1)\n",
      "Requirement already satisfied: nvidia-nccl-cu12 in /mnt/home/a442288/.local/lib/python3.10/site-packages (from xgboost) (2.21.5)\n",
      "Requirement already satisfied: numpy in /usr/local/lib/python3.10/dist-packages (from xgboost) (1.25.0)\n",
      "Installing collected packages: xgboost\n",
      "Successfully installed xgboost-3.0.5\n"
     ]
    }
   ],
   "source": [
    "!pip install xgboost"
   ]
  },
  {
   "cell_type": "code",
   "execution_count": 31,
   "id": "0e6c0fe9",
   "metadata": {},
   "outputs": [],
   "source": [
    "import numpy as np\n",
    "import pandas as pd\n",
    "from sklearn.model_selection import train_test_split, KFold, GridSearchCV\n",
    "from sklearn.pipeline import Pipeline\n",
    "from sklearn.preprocessing import StandardScaler, OneHotEncoder\n",
    "from sklearn.compose import ColumnTransformer\n",
    "from sklearn.metrics import r2_score, mean_squared_error, mean_absolute_error\n",
    "import xgboost as xgb\n",
    "from sklearn.pipeline import Pipeline\n",
    "from sklearn.preprocessing import StandardScaler, OneHotEncoder\n",
    "from sklearn.compose import ColumnTransformer\n",
    "from sklearn.linear_model import LinearRegression\n",
    "from sklearn.ensemble import RandomForestRegressor"
   ]
  },
  {
   "cell_type": "code",
   "execution_count": 2,
   "id": "a27ca53f",
   "metadata": {},
   "outputs": [
    {
     "name": "stdout",
     "output_type": "stream",
     "text": [
      "None\n"
     ]
    }
   ],
   "source": [
    "N = 25000 #Total number of rows\n",
    "print(np.random.seed(42))"
   ]
  },
  {
   "cell_type": "code",
   "execution_count": 3,
   "id": "0decf8ca",
   "metadata": {},
   "outputs": [
    {
     "name": "stdout",
     "output_type": "stream",
     "text": [
      "[56 69 46 ... 74 54 73]\n",
      "25000\n"
     ]
    }
   ],
   "source": [
    "age = np.random.randint(18, 75, size=N)\n",
    "print(age)\n",
    "print(len(age))"
   ]
  },
  {
   "cell_type": "code",
   "execution_count": 4,
   "id": "fddb222f",
   "metadata": {},
   "outputs": [
    {
     "name": "stdout",
     "output_type": "stream",
     "text": [
      "[ 86669.63247551 111915.53855484  76198.52702265 ... 106024.36710153\n",
      "  70050.40440022  66755.774414  ]\n",
      "25000\n"
     ]
    }
   ],
   "source": [
    "income = np.random.normal(60000, 30000, size=N).clip(5000, 300000)\n",
    "print(income)\n",
    "print(len(income))\n"
   ]
  },
  {
   "cell_type": "code",
   "execution_count": 5,
   "id": "c713a99d",
   "metadata": {},
   "outputs": [
    {
     "name": "stdout",
     "output_type": "stream",
     "text": [
      "['Urban' 'Urban' 'Rural' ... 'Urban' 'Rural' 'Urban']\n",
      "25000\n"
     ]
    }
   ],
   "source": [
    "location = np.random.choice(['Urban','Suburban','Rural'], size=N, p=[0.5,0.35,0.15])\n",
    "print(location)\n",
    "print(len(location))"
   ]
  },
  {
   "cell_type": "code",
   "execution_count": 6,
   "id": "28a2d695",
   "metadata": {},
   "outputs": [],
   "source": [
    "segment = np.random.choice(['SME','Retail','Corporate'], size=N, p=[0.2,0.6,0.2])"
   ]
  },
  {
   "cell_type": "code",
   "execution_count": 7,
   "id": "60487017",
   "metadata": {},
   "outputs": [],
   "source": [
    "logins_per_month = np.random.gamma(2, 3, size=N)"
   ]
  },
  {
   "cell_type": "code",
   "execution_count": 8,
   "id": "044a399a",
   "metadata": {},
   "outputs": [],
   "source": [
    "avg_order_size = np.random.exponential(100, size=N).clip(5, 2000)"
   ]
  },
  {
   "cell_type": "code",
   "execution_count": 9,
   "id": "d3b1144a",
   "metadata": {},
   "outputs": [],
   "source": [
    "purchase_frequency_per_month = np.random.poisson(1.5, size=N).astype(float)"
   ]
  },
  {
   "cell_type": "code",
   "execution_count": 10,
   "id": "1e2967c7",
   "metadata": {},
   "outputs": [],
   "source": [
    "promo_response_rate = np.random.beta(2,6, size=N)"
   ]
  },
  {
   "cell_type": "code",
   "execution_count": 11,
   "id": "a5e0f35f",
   "metadata": {},
   "outputs": [],
   "source": [
    "tenure_months = np.random.randint(1, 120, size=N)"
   ]
  },
  {
   "cell_type": "code",
   "execution_count": 12,
   "id": "d1469864",
   "metadata": {},
   "outputs": [],
   "source": [
    "total_spend_last_year = (avg_order_size * purchase_frequency_per_month * 12) * (1 + np.random.normal(0,0.3,size=N))"
   ]
  },
  {
   "cell_type": "code",
   "execution_count": 13,
   "id": "86b2b4e2",
   "metadata": {},
   "outputs": [],
   "source": [
    "outstanding_balance = np.random.exponential(200, size=N)\n"
   ]
  },
  {
   "cell_type": "code",
   "execution_count": 14,
   "id": "e5001abc",
   "metadata": {},
   "outputs": [],
   "source": [
    "discount_usage_rate = np.random.beta(2,5, size=N)"
   ]
  },
  {
   "cell_type": "code",
   "execution_count": 15,
   "id": "d692e2f5",
   "metadata": {},
   "outputs": [],
   "source": [
    "customer_service_interactions = np.random.poisson(0.7, size=N)"
   ]
  },
  {
   "cell_type": "code",
   "execution_count": 16,
   "id": "0f017784",
   "metadata": {},
   "outputs": [],
   "source": [
    "app_activity_score = np.random.normal(50, 20, size=N).clip(0,100)"
   ]
  },
  {
   "cell_type": "code",
   "execution_count": 17,
   "id": "a1c20d5f",
   "metadata": {},
   "outputs": [],
   "source": [
    "churn_risk_score = np.clip(0.6 - (app_activity_score - 50)/200 - (tenure_months/240) + np.random.normal(0,0.05,size=N), 0,1)"
   ]
  },
  {
   "cell_type": "code",
   "execution_count": 18,
   "id": "5344ce0a",
   "metadata": {},
   "outputs": [],
   "source": [
    "base_clv = (\n",
    "    0.002 * income +\n",
    "    1.5 * total_spend_last_year +\n",
    "    50 * (segment == 'Corporate').astype(float) +\n",
    "    30 * (segment == 'SME').astype(float) +\n",
    "    20 * app_activity_score +\n",
    "    -400 * churn_risk_score +\n",
    "    2 * tenure_months -\n",
    "    10 * discount_usage_rate * total_spend_last_year\n",
    ")\n"
   ]
  },
  {
   "cell_type": "code",
   "execution_count": 19,
   "id": "7e7befc1",
   "metadata": {},
   "outputs": [],
   "source": [
    "noise = np.random.normal(0, base_clv.std() * 0.25, size=N)\n",
    "CLV_12m = (base_clv + noise).clip(0)"
   ]
  },
  {
   "cell_type": "code",
   "execution_count": 20,
   "id": "5f3c453e",
   "metadata": {},
   "outputs": [],
   "source": [
    "df = pd.DataFrame({\n",
    "    'age': age,\n",
    "    'income': income,\n",
    "    'location': location,\n",
    "    'segment': segment,\n",
    "    'logins_per_month': logins_per_month,\n",
    "    'avg_order_size': avg_order_size,\n",
    "    'purchase_frequency_per_month': purchase_frequency_per_month,\n",
    "    'promo_response_rate': promo_response_rate,\n",
    "    'tenure_months': tenure_months,\n",
    "    'total_spend_last_year': total_spend_last_year,\n",
    "    'outstanding_balance': outstanding_balance,\n",
    "    'discount_usage_rate': discount_usage_rate,\n",
    "    'customer_service_interactions': customer_service_interactions,\n",
    "    'app_activity_score': app_activity_score,\n",
    "    'churn_risk_score': churn_risk_score,\n",
    "    'CLV_12m': CLV_12m\n",
    "})\n"
   ]
  },
  {
   "cell_type": "code",
   "execution_count": 21,
   "id": "624db715",
   "metadata": {},
   "outputs": [
    {
     "data": {
      "text/html": [
       "<div>\n",
       "<style scoped>\n",
       "    .dataframe tbody tr th:only-of-type {\n",
       "        vertical-align: middle;\n",
       "    }\n",
       "\n",
       "    .dataframe tbody tr th {\n",
       "        vertical-align: top;\n",
       "    }\n",
       "\n",
       "    .dataframe thead th {\n",
       "        text-align: right;\n",
       "    }\n",
       "</style>\n",
       "<table border=\"1\" class=\"dataframe\">\n",
       "  <thead>\n",
       "    <tr style=\"text-align: right;\">\n",
       "      <th></th>\n",
       "      <th>age</th>\n",
       "      <th>income</th>\n",
       "      <th>location</th>\n",
       "      <th>segment</th>\n",
       "      <th>logins_per_month</th>\n",
       "      <th>avg_order_size</th>\n",
       "      <th>purchase_frequency_per_month</th>\n",
       "      <th>promo_response_rate</th>\n",
       "      <th>tenure_months</th>\n",
       "      <th>total_spend_last_year</th>\n",
       "      <th>outstanding_balance</th>\n",
       "      <th>discount_usage_rate</th>\n",
       "      <th>customer_service_interactions</th>\n",
       "      <th>app_activity_score</th>\n",
       "      <th>churn_risk_score</th>\n",
       "      <th>CLV_12m</th>\n",
       "    </tr>\n",
       "  </thead>\n",
       "  <tbody>\n",
       "    <tr>\n",
       "      <th>0</th>\n",
       "      <td>56</td>\n",
       "      <td>86669.632476</td>\n",
       "      <td>Urban</td>\n",
       "      <td>Retail</td>\n",
       "      <td>2.119058</td>\n",
       "      <td>415.586555</td>\n",
       "      <td>0.0</td>\n",
       "      <td>0.166604</td>\n",
       "      <td>55</td>\n",
       "      <td>0.000000</td>\n",
       "      <td>158.126026</td>\n",
       "      <td>0.345317</td>\n",
       "      <td>1</td>\n",
       "      <td>38.404764</td>\n",
       "      <td>0.430753</td>\n",
       "      <td>0.000000</td>\n",
       "    </tr>\n",
       "    <tr>\n",
       "      <th>1</th>\n",
       "      <td>69</td>\n",
       "      <td>111915.538555</td>\n",
       "      <td>Urban</td>\n",
       "      <td>Retail</td>\n",
       "      <td>3.070990</td>\n",
       "      <td>42.247099</td>\n",
       "      <td>2.0</td>\n",
       "      <td>0.112674</td>\n",
       "      <td>110</td>\n",
       "      <td>596.023611</td>\n",
       "      <td>371.903240</td>\n",
       "      <td>0.411775</td>\n",
       "      <td>0</td>\n",
       "      <td>60.453654</td>\n",
       "      <td>0.037685</td>\n",
       "      <td>2006.294805</td>\n",
       "    </tr>\n",
       "    <tr>\n",
       "      <th>2</th>\n",
       "      <td>46</td>\n",
       "      <td>76198.527023</td>\n",
       "      <td>Rural</td>\n",
       "      <td>SME</td>\n",
       "      <td>3.027881</td>\n",
       "      <td>24.772901</td>\n",
       "      <td>1.0</td>\n",
       "      <td>0.321444</td>\n",
       "      <td>37</td>\n",
       "      <td>508.639169</td>\n",
       "      <td>77.956338</td>\n",
       "      <td>0.417457</td>\n",
       "      <td>1</td>\n",
       "      <td>47.013060</td>\n",
       "      <td>0.393640</td>\n",
       "      <td>0.000000</td>\n",
       "    </tr>\n",
       "    <tr>\n",
       "      <th>3</th>\n",
       "      <td>32</td>\n",
       "      <td>47100.257742</td>\n",
       "      <td>Urban</td>\n",
       "      <td>Retail</td>\n",
       "      <td>8.785846</td>\n",
       "      <td>47.512154</td>\n",
       "      <td>0.0</td>\n",
       "      <td>0.314821</td>\n",
       "      <td>69</td>\n",
       "      <td>0.000000</td>\n",
       "      <td>289.671398</td>\n",
       "      <td>0.432579</td>\n",
       "      <td>0</td>\n",
       "      <td>17.165017</td>\n",
       "      <td>0.445838</td>\n",
       "      <td>1567.938558</td>\n",
       "    </tr>\n",
       "    <tr>\n",
       "      <th>4</th>\n",
       "      <td>60</td>\n",
       "      <td>99700.227675</td>\n",
       "      <td>Urban</td>\n",
       "      <td>Retail</td>\n",
       "      <td>4.043159</td>\n",
       "      <td>61.533833</td>\n",
       "      <td>1.0</td>\n",
       "      <td>0.401783</td>\n",
       "      <td>88</td>\n",
       "      <td>674.234650</td>\n",
       "      <td>66.475289</td>\n",
       "      <td>0.472050</td>\n",
       "      <td>2</td>\n",
       "      <td>72.579690</td>\n",
       "      <td>0.143687</td>\n",
       "      <td>0.000000</td>\n",
       "    </tr>\n",
       "  </tbody>\n",
       "</table>\n",
       "</div>"
      ],
      "text/plain": [
       "   age         income location segment  logins_per_month  avg_order_size  \\\n",
       "0   56   86669.632476    Urban  Retail          2.119058      415.586555   \n",
       "1   69  111915.538555    Urban  Retail          3.070990       42.247099   \n",
       "2   46   76198.527023    Rural     SME          3.027881       24.772901   \n",
       "3   32   47100.257742    Urban  Retail          8.785846       47.512154   \n",
       "4   60   99700.227675    Urban  Retail          4.043159       61.533833   \n",
       "\n",
       "   purchase_frequency_per_month  promo_response_rate  tenure_months  \\\n",
       "0                           0.0             0.166604             55   \n",
       "1                           2.0             0.112674            110   \n",
       "2                           1.0             0.321444             37   \n",
       "3                           0.0             0.314821             69   \n",
       "4                           1.0             0.401783             88   \n",
       "\n",
       "   total_spend_last_year  outstanding_balance  discount_usage_rate  \\\n",
       "0               0.000000           158.126026             0.345317   \n",
       "1             596.023611           371.903240             0.411775   \n",
       "2             508.639169            77.956338             0.417457   \n",
       "3               0.000000           289.671398             0.432579   \n",
       "4             674.234650            66.475289             0.472050   \n",
       "\n",
       "   customer_service_interactions  app_activity_score  churn_risk_score  \\\n",
       "0                              1           38.404764          0.430753   \n",
       "1                              0           60.453654          0.037685   \n",
       "2                              1           47.013060          0.393640   \n",
       "3                              0           17.165017          0.445838   \n",
       "4                              2           72.579690          0.143687   \n",
       "\n",
       "       CLV_12m  \n",
       "0     0.000000  \n",
       "1  2006.294805  \n",
       "2     0.000000  \n",
       "3  1567.938558  \n",
       "4     0.000000  "
      ]
     },
     "execution_count": 21,
     "metadata": {},
     "output_type": "execute_result"
    }
   ],
   "source": [
    "df.head()"
   ]
  },
  {
   "cell_type": "code",
   "execution_count": 22,
   "id": "f784d0a1",
   "metadata": {},
   "outputs": [],
   "source": [
    "# -----------------------------\n",
    "# 3. Train/test split\n",
    "# -----------------------------\n",
    "train_df, test_df = train_test_split(df, test_size=0.2, random_state=42)"
   ]
  },
  {
   "cell_type": "code",
   "execution_count": 23,
   "id": "991c800d",
   "metadata": {},
   "outputs": [],
   "source": [
    "# -----------------------------\n",
    "# 4. Preprocessing & model pipeline\n",
    "# -----------------------------\n",
    "num_cols = ['age','income','logins_per_month','avg_order_size','purchase_frequency_per_month',\n",
    "            'tenure_months','total_spend_last_year','outstanding_balance','discount_usage_rate',\n",
    "            'customer_service_interactions','app_activity_score','promo_response_rate','churn_risk_score']\n",
    "cat_cols = ['location','segment']"
   ]
  },
  {
   "cell_type": "code",
   "execution_count": 24,
   "id": "c64bf720",
   "metadata": {},
   "outputs": [],
   "source": [
    "# Transformers\n",
    "num_transformer = Pipeline([('scaler', StandardScaler())])\n",
    "cat_transformer = Pipeline([('ohe', OneHotEncoder(handle_unknown='ignore'))])\n",
    "\n",
    "preprocessor = ColumnTransformer(transformers=[\n",
    "    ('num', num_transformer, num_cols),\n",
    "    ('cat', cat_transformer, cat_cols)\n",
    "])\n"
   ]
  },
  {
   "cell_type": "code",
   "execution_count": 25,
   "id": "1d921791",
   "metadata": {},
   "outputs": [],
   "source": [
    "# XGBoost Regressor\n",
    "xgb_model = xgb.XGBRegressor(objective='reg:squarederror', random_state=42, n_jobs=-1)\n",
    "pipe = Pipeline([('pre', preprocessor), ('model', xgb_model)])"
   ]
  },
  {
   "cell_type": "code",
   "execution_count": 26,
   "id": "5088c45f",
   "metadata": {},
   "outputs": [
    {
     "name": "stdout",
     "output_type": "stream",
     "text": [
      "Fitting 3 folds for each of 8 candidates, totalling 24 fits\n"
     ]
    }
   ],
   "source": [
    "# Hyperparameter grid (simple example)\n",
    "param_grid = {\n",
    "    'model__n_estimators': [100, 300],\n",
    "    'model__max_depth': [4, 8],\n",
    "    'model__learning_rate': [0.05, 0.1]\n",
    "}\n",
    "\n",
    "cv = KFold(n_splits=3, shuffle=True, random_state=42)\n",
    "\n",
    "gs = GridSearchCV(pipe, param_grid, cv=cv, scoring='r2', n_jobs=-1, verbose=1)\n",
    "gs.fit(train_df[num_cols + cat_cols], train_df['CLV_12m'])\n",
    "\n",
    "best_model = gs.best_estimator_"
   ]
  },
  {
   "cell_type": "code",
   "execution_count": 27,
   "id": "eb7b52cc",
   "metadata": {},
   "outputs": [
    {
     "name": "stdout",
     "output_type": "stream",
     "text": [
      "RMSE: 1166.7580650263262\n",
      "R²: 0.5457574276764399\n",
      "RMSE: 1166.7580650263262\n",
      "MAE: 833.6646333563045\n"
     ]
    }
   ],
   "source": [
    "# -----------------------------\n",
    "# 5. Predict on test data\n",
    "# -----------------------------\n",
    "preds = best_model.predict(test_df[num_cols + cat_cols])\n",
    "\n",
    "r2 = r2_score(test_df['CLV_12m'], preds)\n",
    "# rmse = mean_squared_error(test_df['CLV_12m'], preds, squared=False)\n",
    "rmse = np.sqrt(mean_squared_error(test_df['CLV_12m'], preds))\n",
    "print('RMSE:', rmse)\n",
    "\n",
    "mae = mean_absolute_error(test_df['CLV_12m'], preds)\n",
    "\n",
    "print('R²:', r2)\n",
    "print('RMSE:', rmse)\n",
    "print('MAE:', mae)"
   ]
  },
  {
   "cell_type": "code",
   "execution_count": 28,
   "id": "d3f9c732",
   "metadata": {},
   "outputs": [
    {
     "name": "stdout",
     "output_type": "stream",
     "text": [
      "           CLV_12m predicted_CLV_tier\n",
      "6868      0.000000                Low\n",
      "24016   435.682089             Medium\n",
      "9668      0.000000                Low\n",
      "13640  2387.756480               High\n",
      "14018  3602.651240               High\n"
     ]
    }
   ],
   "source": [
    "\n",
    "# -----------------------------\n",
    "# 6. Segment into CLV tiers\n",
    "# -----------------------------\n",
    "# Quantile-based segmentation: Low=bottom50%, Medium=50-80%, High=top20%\n",
    "pred_tiers = pd.qcut(preds, q=[0,0.5,0.8,1.0], labels=['Low','Medium','High'])\n",
    "test_df['predicted_CLV_tier'] = pred_tiers\n",
    "\n",
    "print(test_df[['CLV_12m','predicted_CLV_tier']].head())"
   ]
  },
  {
   "cell_type": "code",
   "execution_count": 29,
   "id": "24abb5a7",
   "metadata": {},
   "outputs": [
    {
     "name": "stdout",
     "output_type": "stream",
     "text": [
      "      predicted_CLV_tier  churn_risk_score             action\n",
      "6868                 Low          0.383933   Low-cost Nurture\n",
      "24016             Medium          0.287611  Upsell/Cross-sell\n",
      "9668                 Low          0.208142   Low-cost Nurture\n",
      "13640               High          0.094464  Upsell/Cross-sell\n",
      "14018               High          0.288104  Upsell/Cross-sell\n"
     ]
    }
   ],
   "source": [
    "# -----------------------------\n",
    "# 7. Optional: business recommendation (example)\n",
    "# -----------------------------\n",
    "def recommend_action(row):\n",
    "    if row['predicted_CLV_tier']=='High' and row['churn_risk_score']>0.5:\n",
    "        return 'Retention Priority'\n",
    "    elif row['predicted_CLV_tier'] in ['High','Medium']:\n",
    "        return 'Upsell/Cross-sell'\n",
    "    else:\n",
    "        return 'Low-cost Nurture'\n",
    "\n",
    "test_df['action'] = test_df.apply(recommend_action, axis=1)\n",
    "print(test_df[['predicted_CLV_tier','churn_risk_score','action']].head())"
   ]
  },
  {
   "cell_type": "code",
   "execution_count": 34,
   "id": "f5fb66c0",
   "metadata": {},
   "outputs": [
    {
     "name": "stdout",
     "output_type": "stream",
     "text": [
      "\n",
      "📊 XGBoost\n",
      "R²: 0.546\n",
      "RMSE: 1166.7580650263262\n",
      "MAE: 833.66\n",
      "\n",
      "📊 Linear Regression\n",
      "R²: 0.153\n",
      "RMSE: 1166.7580650263262\n",
      "MAE: 1,127.39\n",
      "\n",
      "📊 Random Forest\n",
      "R²: 0.531\n",
      "RMSE: 1166.7580650263262\n",
      "MAE: 836.85\n"
     ]
    }
   ],
   "source": [
    "# -----------------------------\n",
    "# Train Linear Regression\n",
    "# -----------------------------\n",
    "lr_pipe = Pipeline([('pre', preprocessor),\n",
    "                    ('model', LinearRegression())])\n",
    "lr_pipe.fit(train_df[num_cols + cat_cols], train_df['CLV_12m'])\n",
    "preds_lr = lr_pipe.predict(test_df[num_cols + cat_cols])\n",
    "\n",
    "# -----------------------------\n",
    "# Train Random Forest\n",
    "# -----------------------------\n",
    "rf_pipe = Pipeline([('pre', preprocessor),\n",
    "                    ('model', RandomForestRegressor(n_estimators=200, random_state=42, n_jobs=-1))])\n",
    "rf_pipe.fit(train_df[num_cols + cat_cols], train_df['CLV_12m'])\n",
    "preds_rf = rf_pipe.predict(test_df[num_cols + cat_cols])\n",
    "\n",
    "# -----------------------------\n",
    "# Compare all three models\n",
    "# -----------------------------\n",
    "def evaluate(name, y_true, y_pred):\n",
    "    r2 = r2_score(y_true, y_pred)\n",
    "    # rmse = mean_squared_error(y_true, y_pred, squared=False)\n",
    "    mae = mean_absolute_error(y_true, y_pred)\n",
    "    print(f\"\\n📊 {name}\")\n",
    "    print(f\"R²: {r2:.3f}\")\n",
    "    # print(f\"RMSE: {rmse:,.2f}\")\n",
    "    rmse = np.sqrt(mean_squared_error(test_df['CLV_12m'], preds))\n",
    "    print('RMSE:', rmse)\n",
    "    print(f\"MAE: {mae:,.2f}\")\n",
    "\n",
    "evaluate(\"XGBoost\", test_df['CLV_12m'], preds)\n",
    "evaluate(\"Linear Regression\", test_df['CLV_12m'], preds_lr)\n",
    "evaluate(\"Random Forest\", test_df['CLV_12m'], preds_rf)"
   ]
  }
 ],
 "metadata": {
  "kernelspec": {
   "display_name": "Python 3",
   "language": "python",
   "name": "python3"
  },
  "language_info": {
   "codemirror_mode": {
    "name": "ipython",
    "version": 3
   },
   "file_extension": ".py",
   "mimetype": "text/x-python",
   "name": "python",
   "nbconvert_exporter": "python",
   "pygments_lexer": "ipython3",
   "version": "3.10.12"
  }
 },
 "nbformat": 4,
 "nbformat_minor": 5
}
